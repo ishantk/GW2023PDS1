{
  "metadata": {
    "language_info": {
      "codemirror_mode": {
        "name": "python",
        "version": 3
      },
      "file_extension": ".py",
      "mimetype": "text/x-python",
      "name": "python",
      "nbconvert_exporter": "python",
      "pygments_lexer": "ipython3",
      "version": "3.8"
    },
    "kernelspec": {
      "name": "python",
      "display_name": "Python (Pyodide)",
      "language": "python"
    }
  },
  "nbformat_minor": 4,
  "nbformat": 4,
  "cells": [
    {
      "cell_type": "code",
      "source": "import numpy as np",
      "metadata": {
        "trusted": true
      },
      "execution_count": 21,
      "outputs": []
    },
    {
      "cell_type": "code",
      "source": "file = \"ipl-data-2022.csv\"\ndata = np.genfromtxt(file, delimiter=\",\"\n                     , skip_header=1, dtype=float)",
      "metadata": {
        "trusted": true
      },
      "execution_count": 25,
      "outputs": []
    },
    {
      "cell_type": "code",
      "source": "print(type(data))\nprint(data.shape)",
      "metadata": {
        "trusted": true
      },
      "execution_count": 26,
      "outputs": [
        {
          "name": "stdout",
          "text": "<class 'numpy.ndarray'>\n(10, 7)\n",
          "output_type": "stream"
        }
      ]
    },
    {
      "cell_type": "code",
      "source": "print(data)",
      "metadata": {
        "trusted": true
      },
      "execution_count": 27,
      "outputs": [
        {
          "name": "stdout",
          "text": "[[ 1.    14.    10.     4.     0.     0.     0.316]\n [ 2.    14.     9.     5.     0.     0.     0.298]\n [ 3.    14.     9.     5.     0.     0.     0.251]\n [ 4.    14.     8.     6.     0.     0.    -0.253]\n [ 5.    14.     7.     7.     0.     0.     0.204]\n [ 6.    14.     7.     7.     0.     0.     0.126]\n [ 7.    14.     6.     8.     0.     0.     0.146]\n [ 8.    14.     6.     8.     0.     0.    -0.379]\n [ 9.    14.     4.    10.     0.     0.    -0.203]\n [10.    14.     4.    10.     0.     0.    -0.506]]\n",
          "output_type": "stream"
        }
      ]
    },
    {
      "cell_type": "code",
      "source": "teams_titles = {1: 'Gujarat Titans', \n               2: 'Rajasthan Royals'}\nteams = data[:, 0].astype(int)\nprint(teams)",
      "metadata": {
        "trusted": true
      },
      "execution_count": 37,
      "outputs": [
        {
          "name": "stdout",
          "text": "[ 1  2  3  4  5  6  7  8  9 10]\n",
          "output_type": "stream"
        }
      ]
    },
    {
      "cell_type": "code",
      "source": "print(teams[0])\nprint(teams_titles[teams[0]])",
      "metadata": {
        "trusted": true
      },
      "execution_count": 38,
      "outputs": [
        {
          "name": "stdout",
          "text": "1\nGujarat Titans\n",
          "output_type": "stream"
        }
      ]
    },
    {
      "cell_type": "code",
      "source": "matches_played = data[:, 1].astype(int)\nprint(matches_played)",
      "metadata": {
        "trusted": true
      },
      "execution_count": 39,
      "outputs": [
        {
          "name": "stdout",
          "text": "[14 14 14 14 14 14 14 14 14 14]\n",
          "output_type": "stream"
        }
      ]
    },
    {
      "cell_type": "code",
      "source": "matches_won = data[:, 2].astype(int)\nprint(matches_won)",
      "metadata": {
        "trusted": true
      },
      "execution_count": 40,
      "outputs": [
        {
          "name": "stdout",
          "text": "[10  9  9  8  7  7  6  6  4  4]\n",
          "output_type": "stream"
        }
      ]
    },
    {
      "cell_type": "code",
      "source": "matches_lost = data[:, 2].astype(int)\nprint(matches_lost)",
      "metadata": {
        "trusted": true
      },
      "execution_count": 41,
      "outputs": [
        {
          "name": "stdout",
          "text": "[10  9  9  8  7  7  6  6  4  4]\n",
          "output_type": "stream"
        }
      ]
    },
    {
      "cell_type": "code",
      "source": "nrr = data[:, 6]\nprint(nrr)",
      "metadata": {
        "trusted": true
      },
      "execution_count": 43,
      "outputs": [
        {
          "name": "stdout",
          "text": "[ 0.316  0.298  0.251 -0.253  0.204  0.126  0.146 -0.379 -0.203 -0.506]\n",
          "output_type": "stream"
        }
      ]
    },
    {
      "cell_type": "code",
      "source": "# Compute Average NRR for the Season\navg_nrr = np.mean(nrr)\nprint(\"avg_nrr is:\", avg_nrr)",
      "metadata": {
        "trusted": true
      },
      "execution_count": 46,
      "outputs": [
        {
          "name": "stdout",
          "text": "avg_nrr is: 0.0\n",
          "output_type": "stream"
        }
      ]
    },
    {
      "cell_type": "code",
      "source": "# Compute Average Wins for the Season\navg_win = np.mean(matches_won)\nprint(\"avg_win is:\", avg_win)",
      "metadata": {
        "trusted": true
      },
      "execution_count": 47,
      "outputs": [
        {
          "name": "stdout",
          "text": "avg_win is: 7.0\n",
          "output_type": "stream"
        }
      ]
    },
    {
      "cell_type": "code",
      "source": "# Fetch Team with Most Wins\nmost_wins_idx = np.argmax(matches_won)\nmax_wins = np.max(matches_won)\n\nprint(\"most_wins_idx:\", most_wins_idx)\nprint(\"max_wins:\", max_wins)\nprint(\"Team with Maximum Wins is:\", teams[most_wins_idx])\nprint(\"Team Title with Maximum Wins is:\", teams_titles[teams[most_wins_idx]])",
      "metadata": {
        "trusted": true
      },
      "execution_count": 50,
      "outputs": [
        {
          "name": "stdout",
          "text": "most_wins_idx: 0\nmax_wins: 10\nTeam with Maximum Wins is: 1\nTeam Title with Maximum Wins is: Gujarat Titans\n",
          "output_type": "stream"
        }
      ]
    },
    {
      "cell_type": "code",
      "source": "# Assignment: Find the total number of matches played",
      "metadata": {
        "trusted": true
      },
      "execution_count": 51,
      "outputs": []
    },
    {
      "cell_type": "code",
      "source": "# Win Percentage ?\nwin_percentage = (matches_won/matches_played) * 100\nprint(\"win_percentage:\", win_percentage)",
      "metadata": {
        "trusted": true
      },
      "execution_count": 67,
      "outputs": [
        {
          "name": "stdout",
          "text": "win_percentage: [71.42857143 64.28571429 64.28571429 57.14285714 50.         50.\n 42.85714286 42.85714286 28.57142857 28.57142857]\n",
          "output_type": "stream"
        }
      ]
    },
    {
      "cell_type": "code",
      "source": "# Team Performance, Rank the Teams :)\n# sorted_win_percentage = np.sort(win_percentage)\n# print(\"sorted_win_percentage:\", sorted_win_percentage)\n\nwin_percentage[0] = 2.2\nprint(\"win_percentage:\", win_percentage)\n\n# Exepcted Output is: Sorted Indexes..\nsorted_indexes = np.argsort(win_percentage)\nprint(\"sorted_indexes:\", sorted_indexes) ",
      "metadata": {
        "trusted": true
      },
      "execution_count": 68,
      "outputs": [
        {
          "name": "stdout",
          "text": "win_percentage: [ 2.2        64.28571429 64.28571429 57.14285714 50.         50.\n 42.85714286 42.85714286 28.57142857 28.57142857]\nsorted_indexes: [0 8 9 6 7 4 5 3 1 2]\n",
          "output_type": "stream"
        }
      ]
    },
    {
      "cell_type": "code",
      "source": "# Team which had best bowling perfromance\n# Explore, what can be derived from NRR",
      "metadata": {
        "trusted": true
      },
      "execution_count": 65,
      "outputs": []
    },
    {
      "cell_type": "code",
      "source": "numbers = np.array([10, 1, 5, 20, 7])\nsorted_indexes = np.argsort(numbers)\nprint(\"sorted_indexes:\", sorted_indexes)",
      "metadata": {
        "trusted": true
      },
      "execution_count": 66,
      "outputs": [
        {
          "name": "stdout",
          "text": "sorted_indexes: [1 2 4 0 3]\n",
          "output_type": "stream"
        }
      ]
    },
    {
      "cell_type": "code",
      "source": "",
      "metadata": {},
      "execution_count": null,
      "outputs": []
    }
  ]
}