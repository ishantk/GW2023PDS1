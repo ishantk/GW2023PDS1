{
  "metadata": {
    "language_info": {
      "codemirror_mode": {
        "name": "python",
        "version": 3
      },
      "file_extension": ".py",
      "mimetype": "text/x-python",
      "name": "python",
      "nbconvert_exporter": "python",
      "pygments_lexer": "ipython3",
      "version": "3.8"
    },
    "kernelspec": {
      "name": "python",
      "display_name": "Python (Pyodide)",
      "language": "python"
    }
  },
  "nbformat_minor": 4,
  "nbformat": 4,
  "cells": [
    {
      "cell_type": "code",
      "source": "import numpy as np\nnp.version",
      "metadata": {
        "trusted": true
      },
      "execution_count": 11,
      "outputs": [
        {
          "execution_count": 11,
          "output_type": "execute_result",
          "data": {
            "text/plain": "<module 'numpy.version' from '/lib/python3.11/site-packages/numpy/version.py'>"
          },
          "metadata": {}
        }
      ]
    },
    {
      "cell_type": "code",
      "source": "data = [10, 20, 30, 40, 50]\ndata",
      "metadata": {
        "trusted": true
      },
      "execution_count": 12,
      "outputs": [
        {
          "execution_count": 12,
          "output_type": "execute_result",
          "data": {
            "text/plain": "[10, 20, 30, 40, 50]"
          },
          "metadata": {}
        }
      ]
    },
    {
      "cell_type": "code",
      "source": "type(data)",
      "metadata": {
        "trusted": true
      },
      "execution_count": 13,
      "outputs": [
        {
          "execution_count": 13,
          "output_type": "execute_result",
          "data": {
            "text/plain": "list"
          },
          "metadata": {}
        }
      ]
    },
    {
      "cell_type": "code",
      "source": "array = np.array((10, 20, 30, 40, 50))",
      "metadata": {
        "trusted": true
      },
      "execution_count": 15,
      "outputs": []
    },
    {
      "cell_type": "code",
      "source": "print(array)",
      "metadata": {
        "trusted": true
      },
      "execution_count": 18,
      "outputs": [
        {
          "name": "stdout",
          "text": "[10 20 30 40 50]\n",
          "output_type": "stream"
        }
      ]
    },
    {
      "cell_type": "code",
      "source": "type(array)",
      "metadata": {
        "trusted": true
      },
      "execution_count": 17,
      "outputs": [
        {
          "execution_count": 17,
          "output_type": "execute_result",
          "data": {
            "text/plain": "numpy.ndarray"
          },
          "metadata": {}
        }
      ]
    },
    {
      "cell_type": "code",
      "source": "arr1 = np.array([10, 20, 30])\narr2 = np.array([40, 50, 60])\narr3 = np.array([[1, 2, 4],[4, 5, 6], [7, 8, 9]])\narr4 = np.array([\n                        [\n                            [1, 2, 4],[4, 5, 6], [7, 8, 9]\n                        ],\n                        [\n                            [1, 2, 4],[4, 5, 6], [7, 8, 9]\n                        ],\n                        [\n                            [1, 2, 4],[4, 5, 6], [7, 8, 9]\n                        ]\n                    ]\n                )\n\n\nprint(arr1)\nprint(arr2)\nprint(arr3)\nprint(arr4)",
      "metadata": {
        "trusted": true
      },
      "execution_count": 28,
      "outputs": [
        {
          "name": "stdout",
          "text": "[10 20 30]\n[40 50 60]\n[[1 2 4]\n [4 5 6]\n [7 8 9]]\n[[[1 2 4]\n  [4 5 6]\n  [7 8 9]]\n\n [[1 2 4]\n  [4 5 6]\n  [7 8 9]]\n\n [[1 2 4]\n  [4 5 6]\n  [7 8 9]]]\n",
          "output_type": "stream"
        }
      ]
    },
    {
      "cell_type": "code",
      "source": "print(\"arr1.ndim:\", arr1.ndim)\nprint(\"arr2.ndim:\", arr2.ndim)\nprint(\"arr3.ndim:\", arr3.ndim)\nprint(\"arr4.ndim:\", arr4.ndim)",
      "metadata": {
        "trusted": true
      },
      "execution_count": 25,
      "outputs": [
        {
          "name": "stdout",
          "text": "arr1.ndim: 1\narr2.ndim: 1\narr3.ndim: 2\narr4.ndim: 3\n",
          "output_type": "stream"
        }
      ]
    },
    {
      "cell_type": "code",
      "source": "print(\"arr1.shape:\", arr1.shape)\nprint(\"arr2.shape:\", arr2.shape)\nprint(\"arr3.shape:\", arr3.shape)\nprint(\"arr4.shape:\", arr4.shape)",
      "metadata": {
        "trusted": true
      },
      "execution_count": 26,
      "outputs": [
        {
          "name": "stdout",
          "text": "arr1.shape: (3,)\narr2.shape: (3,)\narr3.shape: (3, 3)\narr4.shape: (3, 3, 3)\n",
          "output_type": "stream"
        }
      ]
    },
    {
      "cell_type": "code",
      "source": "# Eplore Indexing:\nprint(arr1[1])\nprint(arr3[1])\nprint(arr4[1])\nprint(arr4[1][1][0])",
      "metadata": {
        "trusted": true
      },
      "execution_count": 30,
      "outputs": [
        {
          "name": "stdout",
          "text": "20\n[4 5 6]\n[[1 2 4]\n [4 5 6]\n [7 8 9]]\n4\n",
          "output_type": "stream"
        }
      ]
    },
    {
      "cell_type": "code",
      "source": "# Slicing :)",
      "metadata": {},
      "execution_count": null,
      "outputs": []
    }
  ]
}